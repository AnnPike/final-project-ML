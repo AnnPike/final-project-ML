{
  "nbformat": 4,
  "nbformat_minor": 0,
  "metadata": {
    "colab": {
      "name": "extract_CI_ResNet12.ipynb",
      "provenance": [],
      "collapsed_sections": [],
      "toc_visible": true,
      "authorship_tag": "ABX9TyM90htSdf+zkLnH7H1JbIN+",
      "include_colab_link": true
    },
    "kernelspec": {
      "name": "python3",
      "display_name": "Python 3"
    },
    "accelerator": "GPU",
    "widgets": {
      "application/vnd.jupyter.widget-state+json": {
        "df40b7f091414a509c237f80ba9f7e1f": {
          "model_module": "@jupyter-widgets/controls",
          "model_name": "HBoxModel",
          "state": {
            "_view_name": "HBoxView",
            "_dom_classes": [],
            "_model_name": "HBoxModel",
            "_view_module": "@jupyter-widgets/controls",
            "_model_module_version": "1.5.0",
            "_view_count": null,
            "_view_module_version": "1.5.0",
            "box_style": "",
            "layout": "IPY_MODEL_5bcc4d39c0ba4a0bac7d310b65bb7165",
            "_model_module": "@jupyter-widgets/controls",
            "children": [
              "IPY_MODEL_e40cc454e3a64a54bb326154df254ef2",
              "IPY_MODEL_43e9c5102d584fd5a5703a04c84929b4"
            ]
          }
        },
        "5bcc4d39c0ba4a0bac7d310b65bb7165": {
          "model_module": "@jupyter-widgets/base",
          "model_name": "LayoutModel",
          "state": {
            "_view_name": "LayoutView",
            "grid_template_rows": null,
            "right": null,
            "justify_content": null,
            "_view_module": "@jupyter-widgets/base",
            "overflow": null,
            "_model_module_version": "1.2.0",
            "_view_count": null,
            "flex_flow": null,
            "width": null,
            "min_width": null,
            "border": null,
            "align_items": null,
            "bottom": null,
            "_model_module": "@jupyter-widgets/base",
            "top": null,
            "grid_column": null,
            "overflow_y": null,
            "overflow_x": null,
            "grid_auto_flow": null,
            "grid_area": null,
            "grid_template_columns": null,
            "flex": null,
            "_model_name": "LayoutModel",
            "justify_items": null,
            "grid_row": null,
            "max_height": null,
            "align_content": null,
            "visibility": null,
            "align_self": null,
            "height": null,
            "min_height": null,
            "padding": null,
            "grid_auto_rows": null,
            "grid_gap": null,
            "max_width": null,
            "order": null,
            "_view_module_version": "1.2.0",
            "grid_template_areas": null,
            "object_position": null,
            "object_fit": null,
            "grid_auto_columns": null,
            "margin": null,
            "display": null,
            "left": null
          }
        },
        "e40cc454e3a64a54bb326154df254ef2": {
          "model_module": "@jupyter-widgets/controls",
          "model_name": "FloatProgressModel",
          "state": {
            "_view_name": "ProgressView",
            "style": "IPY_MODEL_854b6852850146ecb0a56dfa420d9a7b",
            "_dom_classes": [],
            "description": "",
            "_model_name": "FloatProgressModel",
            "bar_style": "info",
            "max": 1,
            "_view_module": "@jupyter-widgets/controls",
            "_model_module_version": "1.5.0",
            "value": 1,
            "_view_count": null,
            "_view_module_version": "1.5.0",
            "orientation": "horizontal",
            "min": 0,
            "description_tooltip": null,
            "_model_module": "@jupyter-widgets/controls",
            "layout": "IPY_MODEL_afc416f9fc484a7288253c5508750a02"
          }
        },
        "43e9c5102d584fd5a5703a04c84929b4": {
          "model_module": "@jupyter-widgets/controls",
          "model_name": "HTMLModel",
          "state": {
            "_view_name": "HTMLView",
            "style": "IPY_MODEL_b5effd5f9aa54abbb162cb1c42bbcf5b",
            "_dom_classes": [],
            "description": "",
            "_model_name": "HTMLModel",
            "placeholder": "​",
            "_view_module": "@jupyter-widgets/controls",
            "_model_module_version": "1.5.0",
            "value": " 170500096/? [00:20&lt;00:00, 82960990.74it/s]",
            "_view_count": null,
            "_view_module_version": "1.5.0",
            "description_tooltip": null,
            "_model_module": "@jupyter-widgets/controls",
            "layout": "IPY_MODEL_1d15dc924379418b8d573fd1fc08af2a"
          }
        },
        "854b6852850146ecb0a56dfa420d9a7b": {
          "model_module": "@jupyter-widgets/controls",
          "model_name": "ProgressStyleModel",
          "state": {
            "_view_name": "StyleView",
            "_model_name": "ProgressStyleModel",
            "description_width": "initial",
            "_view_module": "@jupyter-widgets/base",
            "_model_module_version": "1.5.0",
            "_view_count": null,
            "_view_module_version": "1.2.0",
            "bar_color": null,
            "_model_module": "@jupyter-widgets/controls"
          }
        },
        "afc416f9fc484a7288253c5508750a02": {
          "model_module": "@jupyter-widgets/base",
          "model_name": "LayoutModel",
          "state": {
            "_view_name": "LayoutView",
            "grid_template_rows": null,
            "right": null,
            "justify_content": null,
            "_view_module": "@jupyter-widgets/base",
            "overflow": null,
            "_model_module_version": "1.2.0",
            "_view_count": null,
            "flex_flow": null,
            "width": null,
            "min_width": null,
            "border": null,
            "align_items": null,
            "bottom": null,
            "_model_module": "@jupyter-widgets/base",
            "top": null,
            "grid_column": null,
            "overflow_y": null,
            "overflow_x": null,
            "grid_auto_flow": null,
            "grid_area": null,
            "grid_template_columns": null,
            "flex": null,
            "_model_name": "LayoutModel",
            "justify_items": null,
            "grid_row": null,
            "max_height": null,
            "align_content": null,
            "visibility": null,
            "align_self": null,
            "height": null,
            "min_height": null,
            "padding": null,
            "grid_auto_rows": null,
            "grid_gap": null,
            "max_width": null,
            "order": null,
            "_view_module_version": "1.2.0",
            "grid_template_areas": null,
            "object_position": null,
            "object_fit": null,
            "grid_auto_columns": null,
            "margin": null,
            "display": null,
            "left": null
          }
        },
        "b5effd5f9aa54abbb162cb1c42bbcf5b": {
          "model_module": "@jupyter-widgets/controls",
          "model_name": "DescriptionStyleModel",
          "state": {
            "_view_name": "StyleView",
            "_model_name": "DescriptionStyleModel",
            "description_width": "",
            "_view_module": "@jupyter-widgets/base",
            "_model_module_version": "1.5.0",
            "_view_count": null,
            "_view_module_version": "1.2.0",
            "_model_module": "@jupyter-widgets/controls"
          }
        },
        "1d15dc924379418b8d573fd1fc08af2a": {
          "model_module": "@jupyter-widgets/base",
          "model_name": "LayoutModel",
          "state": {
            "_view_name": "LayoutView",
            "grid_template_rows": null,
            "right": null,
            "justify_content": null,
            "_view_module": "@jupyter-widgets/base",
            "overflow": null,
            "_model_module_version": "1.2.0",
            "_view_count": null,
            "flex_flow": null,
            "width": null,
            "min_width": null,
            "border": null,
            "align_items": null,
            "bottom": null,
            "_model_module": "@jupyter-widgets/base",
            "top": null,
            "grid_column": null,
            "overflow_y": null,
            "overflow_x": null,
            "grid_auto_flow": null,
            "grid_area": null,
            "grid_template_columns": null,
            "flex": null,
            "_model_name": "LayoutModel",
            "justify_items": null,
            "grid_row": null,
            "max_height": null,
            "align_content": null,
            "visibility": null,
            "align_self": null,
            "height": null,
            "min_height": null,
            "padding": null,
            "grid_auto_rows": null,
            "grid_gap": null,
            "max_width": null,
            "order": null,
            "_view_module_version": "1.2.0",
            "grid_template_areas": null,
            "object_position": null,
            "object_fit": null,
            "grid_auto_columns": null,
            "margin": null,
            "display": null,
            "left": null
          }
        }
      }
    }
  },
  "cells": [
    {
      "cell_type": "markdown",
      "metadata": {
        "id": "view-in-github",
        "colab_type": "text"
      },
      "source": [
        "<a href=\"https://colab.research.google.com/github/AnnPike/final-project-ML/blob/master/extract_CI_ResNet12.ipynb\" target=\"_parent\"><img src=\"https://colab.research.google.com/assets/colab-badge.svg\" alt=\"Open In Colab\"/></a>"
      ]
    },
    {
      "cell_type": "code",
      "metadata": {
        "id": "x1Q9QcLBnMYL",
        "colab_type": "code",
        "colab": {
          "base_uri": "https://localhost:8080/",
          "height": 121
        },
        "outputId": "fe0f2389-3f37-4104-fd09-3d0384b8c7bc"
      },
      "source": [
        "from google.colab import drive\n",
        "drive.mount('/content/gdrive')\n",
        "save_to = \"/content/gdrive/My Drive/nets_to_compute_smoothness/\""
      ],
      "execution_count": null,
      "outputs": [
        {
          "output_type": "stream",
          "text": [
            "Go to this URL in a browser: https://accounts.google.com/o/oauth2/auth?client_id=947318989803-6bn6qk8qdgf4n4g3pfee6491hc0brc4i.apps.googleusercontent.com&redirect_uri=urn%3aietf%3awg%3aoauth%3a2.0%3aoob&scope=email%20https%3a%2f%2fwww.googleapis.com%2fauth%2fdocs.test%20https%3a%2f%2fwww.googleapis.com%2fauth%2fdrive%20https%3a%2f%2fwww.googleapis.com%2fauth%2fdrive.photos.readonly%20https%3a%2f%2fwww.googleapis.com%2fauth%2fpeopleapi.readonly&response_type=code\n",
            "\n",
            "Enter your authorization code:\n",
            "··········\n",
            "Mounted at /content/gdrive\n"
          ],
          "name": "stdout"
        }
      ]
    },
    {
      "cell_type": "code",
      "metadata": {
        "id": "0of8l6kCrBNR",
        "colab_type": "code",
        "colab": {
          "base_uri": "https://localhost:8080/",
          "height": 116,
          "referenced_widgets": [
            "df40b7f091414a509c237f80ba9f7e1f",
            "5bcc4d39c0ba4a0bac7d310b65bb7165",
            "e40cc454e3a64a54bb326154df254ef2",
            "43e9c5102d584fd5a5703a04c84929b4",
            "854b6852850146ecb0a56dfa420d9a7b",
            "afc416f9fc484a7288253c5508750a02",
            "b5effd5f9aa54abbb162cb1c42bbcf5b",
            "1d15dc924379418b8d573fd1fc08af2a"
          ]
        },
        "outputId": "43d8824a-dab7-4b43-cf09-4a711dd443db"
      },
      "source": [
        "import torch.nn as nn\n",
        "import torch.nn.functional as F\n",
        "from torch import optim\n",
        "import torch\n",
        "import numpy as np\n",
        "import time\n",
        "from torchvision import datasets\n",
        "import torchvision.transforms as transforms\n",
        "batch_size = 250\n",
        "device = torch.device(\"cuda:0\" if torch.cuda.is_available() else \"cpu\")\n",
        "print(device)\n",
        "\n",
        "transform = transforms.Compose([transforms.ToTensor(),transforms.Normalize((0.4914, 0.4822, 0.4465), (1,1,1))])\n",
        "\n",
        "train_data = datasets.CIFAR10(root='data', train=True, download=True, transform=transform)\n",
        "print(len(train_data))\n",
        "train_loader = torch.utils.data.DataLoader(train_data, batch_size=250)\n",
        "\n",
        "num_train = len(train_data)\n",
        "classes = ['airplane', 'automobile', 'bird', 'cat', 'deer', 'dog', 'frog', 'horse', 'ship', 'truck']"
      ],
      "execution_count": null,
      "outputs": [
        {
          "output_type": "stream",
          "text": [
            "cuda:0\n",
            "Downloading https://www.cs.toronto.edu/~kriz/cifar-10-python.tar.gz to data/cifar-10-python.tar.gz\n"
          ],
          "name": "stdout"
        },
        {
          "output_type": "display_data",
          "data": {
            "application/vnd.jupyter.widget-view+json": {
              "model_id": "df40b7f091414a509c237f80ba9f7e1f",
              "version_minor": 0,
              "version_major": 2
            },
            "text/plain": [
              "HBox(children=(FloatProgress(value=1.0, bar_style='info', max=1.0), HTML(value='')))"
            ]
          },
          "metadata": {
            "tags": []
          }
        },
        {
          "output_type": "stream",
          "text": [
            "Extracting data/cifar-10-python.tar.gz to data\n",
            "50000\n"
          ],
          "name": "stdout"
        }
      ]
    },
    {
      "cell_type": "code",
      "metadata": {
        "id": "c5teM_pC4vWk",
        "colab_type": "code",
        "colab": {}
      },
      "source": [
        "#to extract convolved images\n",
        "import pickle\n",
        "def get_activation(name):\n",
        "    def hook(model, input, output):\n",
        "      if name in dict_X:\n",
        "        X = dict_X[name]\n",
        "        dict_X[name] = torch.cat([X,output.reshape(batch_size,-1).to(device)],axis=0)\n",
        "      else:\n",
        "        dict_X[name] = output.reshape(batch_size,-1).to(device)\n",
        "    return hook"
      ],
      "execution_count": null,
      "outputs": []
    },
    {
      "cell_type": "code",
      "metadata": {
        "id": "KQIZ4Ucwam-K",
        "colab_type": "code",
        "colab": {}
      },
      "source": [
        "# model_name = 'ResNet12' # for final model\n",
        "# model_name = 'ResNet12_5' #for epoch 5\n",
        "model_name = 'ResNet12_overfitting_100'#for overfited model\n",
        "class ResNet12(nn.Module):\n",
        "  def __init__(self):\n",
        "    super(ResNet12,self).__init__()\n",
        "    self.conv1 = nn.Conv2d(3, 4, 4, padding=1,stride=2, bias=False)\n",
        "    self.conv2 = nn.Conv2d(4, 4, 3, padding=1, bias=False)\n",
        "    self.conv3 = nn.Conv2d(4, 4, 3, padding=1, bias=False)\n",
        "    self.conv4 = nn.Conv2d(4, 8, 3, padding=1, bias=False)\n",
        "    self.conv5 = nn.Conv2d(8, 8, 3, padding=1, bias=False)\n",
        "    self.conv6 = nn.Conv2d(8, 8, 3, padding=1, bias=False)\n",
        "    self.conv7 = nn.Conv2d(8, 8, 3, padding=1, bias=False)\n",
        "    self.conv8 = nn.Conv2d(8, 16, 3, padding=1, bias=False)\n",
        "    self.conv9 = nn.Conv2d(16, 16, 3, padding=1, bias=False)\n",
        "    self.conv10 = nn.Conv2d(16, 16, 3, padding=1, bias=False)\n",
        "    self.conv11 = nn.Conv2d(16, 16, 3, padding=1, bias=False)\n",
        "    self.avpool = nn.AvgPool2d(2,2)\n",
        "    self.fc1 = nn.Linear(8*8*16,10)\n",
        "  def forward(self, x):\n",
        "    padding_zeros_4 = torch.zeros(batch_size,4,16,16).to(device)\n",
        "    padding_zeros_8 = torch.zeros(batch_size,8,16,16).to(device)\n",
        "    x = self.conv1(x) #4*16*16\n",
        "    identity = x.clone()\n",
        "    x = F.relu(x)\n",
        "    x = F.relu(self.conv2(x)) \n",
        "    x = self.conv3(x)\n",
        "    x = x + identity\n",
        "    identity = x.clone()\n",
        "    x = F.relu(x)\n",
        "    x = F.relu(self.conv4(x)) #8*16*16\n",
        "    x = self.conv5(x) \n",
        "    x = x + torch.cat([identity,padding_zeros_4],axis=1)\n",
        "    identity = x.clone()\n",
        "    x = F.relu(x)\n",
        "    x = F.relu(self.conv6(x)) \n",
        "    x = self.conv7(x)\n",
        "    x = x + identity\n",
        "    identity = x.clone() \n",
        "    x = F.relu(x)\n",
        "    x = F.relu(self.conv8(x)) #16\n",
        "    x = self.conv9(x) \n",
        "    x = x + torch.cat([identity,padding_zeros_8],axis=1)\n",
        "    identity = x.clone() \n",
        "    x = F.relu(x)\n",
        "    x = F.relu(self.conv10(x))\n",
        "    x = self.conv11(x)\n",
        "    x = x+identity\n",
        "    x = F.relu(x)\n",
        "    x = self.avpool(x)\n",
        "    x = x.view(-1,8*8*16)\n",
        "    x = self.fc1(x)\n",
        "    return x #10 class scores"
      ],
      "execution_count": null,
      "outputs": []
    },
    {
      "cell_type": "code",
      "metadata": {
        "id": "T7y-UkaYoD97",
        "colab_type": "code",
        "colab": {
          "base_uri": "https://localhost:8080/",
          "height": 34
        },
        "outputId": "1422fe87-f7db-4ca7-9b92-089044de0538"
      },
      "source": [
        "# load weights\n",
        "model = ResNet12()\n",
        "model.to(device)\n",
        "# model.load_state_dict(torch.load(save_to + model_name + '.pt' )) # for final model\n",
        "model.load_state_dict(torch.load(save_to + model_name)) #for epoch 5 or overfited"
      ],
      "execution_count": null,
      "outputs": [
        {
          "output_type": "execute_result",
          "data": {
            "text/plain": [
              "<All keys matched successfully>"
            ]
          },
          "metadata": {
            "tags": []
          },
          "execution_count": 6
        }
      ]
    },
    {
      "cell_type": "code",
      "metadata": {
        "id": "6q7xkij_1T7s",
        "colab_type": "code",
        "colab": {}
      },
      "source": [
        "# #load input and output \n",
        "# import pickle\n",
        "# input = torch.zeros(1,3072).to(device)\n",
        "# y = torch.empty(0).to(device)\n",
        "# with torch.no_grad():\n",
        "#   for image, label in train_loader:\n",
        "#     image = image.to(device)\n",
        "#     label = label.to(device)\n",
        "#     y = torch.cat([y,label],axis = 0)\n",
        "#     input = torch.cat([input,image.view(-1,3072)],axis=0)\n",
        "# input = input[1:]\n",
        "\n",
        "# print(y.shape)\n",
        "# print(input.shape)\n",
        "\n",
        "# input = input.cpu().numpy()\n",
        "# y = y.cpu().numpy()\n",
        "# pickle.dump(input, open(save_to+\"np_input\", 'wb'))\n",
        "# pickle.dump(y, open(save_to+\"np_y\", 'wb'))"
      ],
      "execution_count": null,
      "outputs": []
    },
    {
      "cell_type": "markdown",
      "metadata": {
        "id": "KNcllj7hkPDw",
        "colab_type": "text"
      },
      "source": [
        "# Extract feature maps for each layer"
      ]
    },
    {
      "cell_type": "code",
      "metadata": {
        "id": "3ILoQliTkWfT",
        "colab_type": "code",
        "colab": {}
      },
      "source": [
        "#register hook for every layer\n",
        "layer_names = ['conv1', 'conv2', 'conv3', 'conv4', 'conv5', 'conv6', 'conv7', 'conv8', 'conv9', 'conv10', 'conv11', 'avpool', 'fc1']\n",
        "\n",
        "dict_X = {}\n",
        "model.conv2.register_forward_hook(get_activation('conv2'))\n",
        "model.conv4.register_forward_hook(get_activation('conv4'))\n",
        "model.conv6.register_forward_hook(get_activation('conv6'))\n",
        "model.conv8.register_forward_hook(get_activation('conv8'))\n",
        "model.conv10.register_forward_hook(get_activation('conv10'))\n",
        "model.avpool.register_forward_hook(get_activation('avpool'))\n",
        "model.fc1.register_forward_hook(get_activation('fc1'))\n",
        "\n",
        "with torch.no_grad():\n",
        "  for input, _ in train_loader:\n",
        "    input = input.to(device)\n",
        "    output = model(input)"
      ],
      "execution_count": null,
      "outputs": []
    },
    {
      "cell_type": "code",
      "metadata": {
        "id": "rkb05rwAWZs_",
        "colab_type": "code",
        "colab": {
          "base_uri": "https://localhost:8080/",
          "height": 134
        },
        "outputId": "c6e536dd-57fa-467f-850c-9b186b2fba8e"
      },
      "source": [
        "for layer in dict_X.keys():\n",
        "  print(layer+': ', dict_X[layer].shape)\n",
        "#save output for each layer\n",
        "m = nn.ReLU()\n",
        "\n",
        "for even_layer in ['conv2', 'conv4', 'conv6', 'conv8', 'conv10']:\n",
        "  pickle.dump(m(dict_X[even_layer]).cpu().numpy(), open(save_to+model_name+'_'+even_layer+'_relu','wb'))\n",
        "  del dict_X[even_layer]\n",
        "\n",
        "pickle.dump(dict_X['avpool'].cpu().numpy(), open(save_to+model_name+'_avpool','wb'))\n",
        "del dict_X['avpool']\n",
        "\n",
        "pickle.dump(dict_X['fc1'].cpu().numpy(), open(save_to+model_name+'_fc1','wb'))\n",
        "del dict_X['fc1']"
      ],
      "execution_count": null,
      "outputs": [
        {
          "output_type": "stream",
          "text": [
            "conv2:  torch.Size([50000, 1024])\n",
            "conv4:  torch.Size([50000, 2048])\n",
            "conv6:  torch.Size([50000, 2048])\n",
            "conv8:  torch.Size([50000, 4096])\n",
            "conv10:  torch.Size([50000, 4096])\n",
            "avpool:  torch.Size([50000, 1024])\n",
            "fc1:  torch.Size([50000, 10])\n"
          ],
          "name": "stdout"
        }
      ]
    },
    {
      "cell_type": "code",
      "metadata": {
        "id": "qS2Yno8bXC36",
        "colab_type": "code",
        "colab": {}
      },
      "source": [
        "model.conv1.register_forward_hook(get_activation('conv1'))\n",
        "model.conv3.register_forward_hook(get_activation('conv3'))\n",
        "model.conv5.register_forward_hook(get_activation('conv5'))\n",
        "model.conv7.register_forward_hook(get_activation('conv7'))\n",
        "model.conv9.register_forward_hook(get_activation('conv9'))\n",
        "model.conv11.register_forward_hook(get_activation('conv11'))\n",
        "\n",
        "with torch.no_grad():\n",
        "  for input, _ in train_loader:\n",
        "    input = input.to(device)\n",
        "    output = model(input)"
      ],
      "execution_count": null,
      "outputs": []
    },
    {
      "cell_type": "code",
      "metadata": {
        "id": "UtqS4cRTS703",
        "colab_type": "code",
        "colab": {
          "base_uri": "https://localhost:8080/",
          "height": 118
        },
        "outputId": "cd64fcaa-8614-4702-f40a-d52460f4c5f9"
      },
      "source": [
        "for layer in ['conv2', 'conv4', 'conv6', 'conv8', 'conv10', 'avpool', 'fc1']:\n",
        "  del dict_X[layer]\n",
        "\n",
        "for layer in dict_X.keys():\n",
        "  print(layer+': ', dict_X[layer].shape)\n",
        "#save output for each layer\n",
        "m = nn.ReLU()\n",
        "\n",
        "\n",
        "pickle.dump(m(dict_X['conv1']).cpu().numpy(), open(save_to+model_name+'_conv1_relu','wb'))\n",
        "\n",
        "conv3_plus_identity = dict_X['conv3'].clone()+dict_X['conv1'].clone()\n",
        "pickle.dump(m(conv3_plus_identity).cpu().numpy(), open(save_to+model_name+'_conv3+identity_relu','wb'))\n",
        "del dict_X['conv1']\n",
        "del dict_X['conv3']\n",
        "\n",
        "padding_zeros_4 = torch.zeros(50000,1024).to(device)\n",
        "conv5_plus_identity = dict_X['conv5'].clone()+torch.cat([conv3_plus_identity,padding_zeros_4],axis=1)\n",
        "pickle.dump(m(conv5_plus_identity).cpu().numpy(), open(save_to+model_name+'_conv5+identity_relu','wb'))\n",
        "del dict_X['conv5']\n",
        "del conv3_plus_identity\n",
        "del padding_zeros_4\n",
        "\n",
        "conv7_plus_identity = dict_X['conv7'].clone()+conv5_plus_identity\n",
        "pickle.dump(m(conv7_plus_identity).cpu().numpy(), open(save_to+model_name+'_conv7+identity_relu','wb'))\n",
        "del dict_X['conv7']\n",
        "del conv5_plus_identity\n",
        "\n",
        "padding_zeros_8 = torch.zeros(50000,2048).to(device)\n",
        "conv9_plus_identity = dict_X['conv9'].clone()+torch.cat([conv7_plus_identity,padding_zeros_8],axis=1)\n",
        "pickle.dump(m(conv9_plus_identity).cpu().numpy(), open(save_to+model_name+'_conv9+identity_relu','wb'))\n",
        "del dict_X['conv9']\n",
        "del conv7_plus_identity\n",
        "del padding_zeros_8\n",
        "\n",
        "conv11_plus_identity = dict_X['conv11'].clone()+conv9_plus_identity\n",
        "pickle.dump(m(conv11_plus_identity).cpu().numpy(), open(save_to+model_name+'_conv11+identity_relu','wb'))\n",
        "del dict_X['conv11']\n",
        "del conv9_plus_identity\n",
        "del conv11_plus_identity"
      ],
      "execution_count": null,
      "outputs": [
        {
          "output_type": "stream",
          "text": [
            "conv1:  torch.Size([50000, 1024])\n",
            "conv3:  torch.Size([50000, 1024])\n",
            "conv5:  torch.Size([50000, 2048])\n",
            "conv7:  torch.Size([50000, 2048])\n",
            "conv9:  torch.Size([50000, 4096])\n",
            "conv11:  torch.Size([50000, 4096])\n"
          ],
          "name": "stdout"
        }
      ]
    },
    {
      "cell_type": "code",
      "metadata": {
        "id": "jI4Fc9REVnl5",
        "colab_type": "code",
        "colab": {}
      },
      "source": [
        ""
      ],
      "execution_count": null,
      "outputs": []
    }
  ]
}